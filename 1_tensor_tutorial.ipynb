{
  "nbformat": 4,
  "nbformat_minor": 0,
  "metadata": {
    "colab": {
      "provenance": [],
      "gpuType": "T4",
      "authorship_tag": "ABX9TyM+6/FSsbU7qgOQZKFMlCHM",
      "include_colab_link": true
    },
    "kernelspec": {
      "name": "python3",
      "display_name": "Python 3"
    },
    "language_info": {
      "name": "python"
    },
    "accelerator": "GPU"
  },
  "cells": [
    {
      "cell_type": "markdown",
      "metadata": {
        "id": "view-in-github",
        "colab_type": "text"
      },
      "source": [
        "<a href=\"https://colab.research.google.com/github/MichaelYeung2004/pytorch_tytorials/blob/main/1_tensor_tutorial.ipynb\" target=\"_parent\"><img src=\"https://colab.research.google.com/assets/colab-badge.svg\" alt=\"Open In Colab\"/></a>"
      ]
    },
    {
      "cell_type": "markdown",
      "source": [
        "# Tensor(张量)"
      ],
      "metadata": {
        "id": "139CNwZlDMxY"
      }
    },
    {
      "cell_type": "markdown",
      "source": [
        "张量（Tensor）是一种特殊的数据结构，与数组和矩阵非常相似。在 PyTorch 中，我们使用张量对模型的输入和输出以及模型的参数进行编码。\n",
        "张量与 NumPy 的 ndarray 类似，但张量还可以在 GPU 或其他专用硬件上运行，以加速计算。如果你熟悉 ndarray，你会觉得 Tensor API 非常亲切。如果不熟悉，请跟随我们一起快速了解其 API。"
      ],
      "metadata": {
        "id": "eAYigzCSDgRt"
      }
    },
    {
      "cell_type": "code",
      "source": [
        "import torch\n",
        "import numpy as np"
      ],
      "metadata": {
        "id": "mHBEgpGWE8SG"
      },
      "execution_count": null,
      "outputs": []
    },
    {
      "cell_type": "markdown",
      "source": [
        "## 张量初始化\n",
        "张量可以通过多种方式进行初始化。请看以下示例：\n",
        "\n",
        "**直接从数据创建**\n",
        "\n",
        "张量可以直接从数据创建。其数据类型会被自动推断。"
      ],
      "metadata": {
        "id": "yIF0V2iSHVEB"
      }
    },
    {
      "cell_type": "code",
      "source": [
        "data = [[1, 2], [3, 4]] # 创建一个2x2的矩阵\n",
        "x_data = torch.tensor(data) # 创建一个张量\n",
        "print(x_data)"
      ],
      "metadata": {
        "id": "acC3tOdeKZg0",
        "colab": {
          "base_uri": "https://localhost:8080/"
        },
        "outputId": "7dd02128-7a8d-4641-9974-25489d0f9127"
      },
      "execution_count": null,
      "outputs": [
        {
          "output_type": "stream",
          "name": "stdout",
          "text": [
            "tensor([[1, 2],\n",
            "        [3, 4]])\n"
          ]
        }
      ]
    },
    {
      "cell_type": "markdown",
      "source": [
        "**从 NumPy 数组创建**\n",
        "\n",
        "张量可以从NumPy数组创建（反之亦然 - 参见[与 NumPy 的桥梁](https://colab.research.google.com/drive/1HLBZiGhLlPuL-E8p2ukAYDjGwHF-pmbU#scrollTo=j2C_zq9WclaG&line=1&uniqifier=1)）。"
      ],
      "metadata": {
        "id": "Qy-m7pD6I7qG"
      }
    },
    {
      "cell_type": "code",
      "source": [
        "np_array = np.array(data) # 将data转换为numpy数组\n",
        "x_np = torch.from_numpy(np_array) # 将numpy数组转换为张量\n",
        "print(x_np) # 打印张量"
      ],
      "metadata": {
        "id": "Sa4IJqBXKpcA",
        "colab": {
          "base_uri": "https://localhost:8080/"
        },
        "outputId": "ccd0eef7-cc64-4c52-9009-70f8d130034b"
      },
      "execution_count": null,
      "outputs": [
        {
          "output_type": "stream",
          "name": "stdout",
          "text": [
            "tensor([[1, 2],\n",
            "        [3, 4]])\n"
          ]
        }
      ]
    },
    {
      "cell_type": "markdown",
      "source": [
        "**从另一个张量创建：**\n",
        "\n",
        "新张量会保留参数张量的属性（如形状、数据类型），除非显式地进行重写。"
      ],
      "metadata": {
        "id": "6pseFKfvJ-er"
      }
    },
    {
      "cell_type": "code",
      "source": [
        "x_ones = torch.ones_like(x_data) # 保留 x_data 的属性\n",
        "#使用f-string\n",
        "print(f\"Ones Tensor: \\n {x_ones} \\n\")\n",
        "#不使用f-string\n",
        "print(\"Ones Tensor: \\n\", x_ones, \"\\n\")\n",
        "x_rand = torch.rand_like(x_data, dtype=torch.float) # 重写 x_data 的数据类型\n",
        "print(f\"Random Tensor: \\n {x_rand} \\n\")"
      ],
      "metadata": {
        "colab": {
          "base_uri": "https://localhost:8080/"
        },
        "id": "lptBjzWoKBgg",
        "outputId": "19b27995-e6df-4f03-a0d6-6c68ed4dd9ba"
      },
      "execution_count": null,
      "outputs": [
        {
          "output_type": "stream",
          "name": "stdout",
          "text": [
            "Ones Tensor: \n",
            " tensor([[1, 1],\n",
            "        [1, 1]]) \n",
            "\n",
            "Ones Tensor: \n",
            " tensor([[1, 1],\n",
            "        [1, 1]]) \n",
            "\n",
            "Random Tensor: \n",
            " tensor([[0.4104, 0.2227],\n",
            "        [0.0995, 0.8977]]) \n",
            "\n"
          ]
        }
      ]
    },
    {
      "cell_type": "markdown",
      "source": [
        "**使用随机值或常量值创建：**\n",
        "\n",
        "shape 是一个表示张量维度的元组。在下面的函数中，它决定了输出张量的维度。"
      ],
      "metadata": {
        "id": "VVBSR4wKLAdw"
      }
    },
    {
      "cell_type": "code",
      "source": [
        "shape = (2, 3,)   # 创建一个2x3的随机张量\n",
        "rand_tensor = torch.rand(shape) # 创建一个2x3的随机张量\n",
        "ones_tensor = torch.ones(shape) # 创建一个2x3的全1张量\n",
        "zeros_tensor = torch.zeros(shape) # 创建一个2x3的全0张量\n",
        "\n",
        "print(f\"Random Tensor: \\n {rand_tensor} \\n\")\n",
        "print(f\"Ones Tensor: \\n {ones_tensor} \\n\")\n",
        "print(f\"Zeros Tensor: \\n {zeros_tensor}\")"
      ],
      "metadata": {
        "colab": {
          "base_uri": "https://localhost:8080/"
        },
        "id": "n5leNZLwLM_H",
        "outputId": "42761b0c-ba59-4339-ff0f-a942ad30132f"
      },
      "execution_count": null,
      "outputs": [
        {
          "output_type": "stream",
          "name": "stdout",
          "text": [
            "Random Tensor: \n",
            " tensor([[0.2731, 0.7065, 0.0360],\n",
            "        [0.4549, 0.9519, 0.1272]]) \n",
            "\n",
            "Ones Tensor: \n",
            " tensor([[1., 1., 1.],\n",
            "        [1., 1., 1.]]) \n",
            "\n",
            "Zeros Tensor: \n",
            " tensor([[0., 0., 0.],\n",
            "        [0., 0., 0.]])\n"
          ]
        }
      ]
    },
    {
      "cell_type": "markdown",
      "source": [
        "## 张量属性\n",
        "张量属性描述了它们的形状、数据类型以及存储它们的设备。"
      ],
      "metadata": {
        "id": "DIPvfQV7LiPA"
      }
    },
    {
      "cell_type": "code",
      "source": [
        "tensor = torch.rand(3, 4) # 创建一个3x4的随机张量\n",
        "\n",
        "print(f\"Shape of tensor: {tensor.shape}\") # 打印张量的形状\n",
        "print(f\"Datatype of tensor: {tensor.dtype}\") # 打印张量的数据类型\n",
        "print(f\"Device tensor is stored on: {tensor.device}\") # 打印张量存储的设备"
      ],
      "metadata": {
        "colab": {
          "base_uri": "https://localhost:8080/"
        },
        "id": "ydQZKpEXLu1I",
        "outputId": "63e732ba-4610-4a57-c7a3-b4eab1f4c4d9"
      },
      "execution_count": null,
      "outputs": [
        {
          "output_type": "stream",
          "name": "stdout",
          "text": [
            "Shape of tensor: torch.Size([3, 4])\n",
            "Datatype of tensor: torch.float32\n",
            "Device tensor is stored on: cpu\n"
          ]
        }
      ]
    },
    {
      "cell_type": "markdown",
      "source": [
        "## 张量操作\n",
        "这里有超过 100 种张量操作，包括转置、索引、切片、数学运算、线性代数、随机采样等，官方文档 中有全面的描述。\n",
        "\n",
        "每一项操作都可以在 GPU 上运行（通常比在 CPU 上运行速度更快）。如果你正在使用 Colab，可以通过“修改 (Edit)” > “笔记本设置 (Notebook Settings)”来分配一个 GPU。"
      ],
      "metadata": {
        "id": "ycKZl6vxMP9g"
      }
    },
    {
      "cell_type": "code",
      "source": [
        "# 如果有可用的 GPU，我们将张量移动到 GPU 上\n",
        "if torch.cuda.is_available():\n",
        "  tensor = tensor.to('cuda')\n",
        "  print(f\"Device tensor is stored on: {tensor.device}\")"
      ],
      "metadata": {
        "colab": {
          "base_uri": "https://localhost:8080/"
        },
        "id": "mgyWBaHHMZ5Y",
        "outputId": "99bf674a-917a-48a2-a60f-b93890206259"
      },
      "execution_count": null,
      "outputs": [
        {
          "output_type": "stream",
          "name": "stdout",
          "text": [
            "Device tensor is stored on: cuda:0\n"
          ]
        }
      ]
    },
    {
      "cell_type": "markdown",
      "source": [
        "试用一下列表中的一些操作。如果你熟悉 NumPy API，你会发现 Tensor API 非常易于使用。\n",
        "\n",
        "**标准的 NumPy 式索引和切片：**"
      ],
      "metadata": {
        "id": "J-E4DMaMNuQf"
      }
    },
    {
      "cell_type": "code",
      "source": [
        "tensor = torch.ones(4, 4) # 创建一个4x4的全1张量\n",
        "tensor[:,1] = 0 # 将第2列的所有元素设置为0\n",
        "print(tensor) # 打印张量"
      ],
      "metadata": {
        "colab": {
          "base_uri": "https://localhost:8080/"
        },
        "id": "LxZHk3LGN0cm",
        "outputId": "09e0498a-d2cb-4587-bcd4-510031b50807"
      },
      "execution_count": null,
      "outputs": [
        {
          "output_type": "stream",
          "name": "stdout",
          "text": [
            "tensor([[1., 0., 1., 1.],\n",
            "        [1., 0., 1., 1.],\n",
            "        [1., 0., 1., 1.],\n",
            "        [1., 0., 1., 1.]])\n"
          ]
        }
      ]
    },
    {
      "cell_type": "markdown",
      "source": [
        "**连接张量** 你可以使用 torch.cat 沿指定维度连接一系列张量。另请参阅 torch.stack，这是另一种张量连接操作，与 torch.cat 有细微差别。"
      ],
      "metadata": {
        "id": "SJhqzCSJOUrG"
      }
    },
    {
      "cell_type": "code",
      "source": [
        "t1 = torch.cat([tensor, tensor, tensor], dim=1) # 将三个tensor在第1维度上拼接，dim=1表示在列上拼接，会输出一个4x12的张量\n",
        "print(t1)\n",
        "t2 = torch.cat([tensor, tensor, tensor], dim=0) # 将三个tensor在第0维度上拼接，dim=0表示在行上拼接，会输出一个12x4的张量\n",
        "print(t2)"
      ],
      "metadata": {
        "colab": {
          "base_uri": "https://localhost:8080/"
        },
        "id": "aO6k3VzxOc_u",
        "outputId": "cb1009a2-196e-4c91-a736-bf5064452b49"
      },
      "execution_count": null,
      "outputs": [
        {
          "output_type": "stream",
          "name": "stdout",
          "text": [
            "tensor([[1., 0., 1., 1., 1., 0., 1., 1., 1., 0., 1., 1.],\n",
            "        [1., 0., 1., 1., 1., 0., 1., 1., 1., 0., 1., 1.],\n",
            "        [1., 0., 1., 1., 1., 0., 1., 1., 1., 0., 1., 1.],\n",
            "        [1., 0., 1., 1., 1., 0., 1., 1., 1., 0., 1., 1.]])\n",
            "tensor([[1., 0., 1., 1.],\n",
            "        [1., 0., 1., 1.],\n",
            "        [1., 0., 1., 1.],\n",
            "        [1., 0., 1., 1.],\n",
            "        [1., 0., 1., 1.],\n",
            "        [1., 0., 1., 1.],\n",
            "        [1., 0., 1., 1.],\n",
            "        [1., 0., 1., 1.],\n",
            "        [1., 0., 1., 1.],\n",
            "        [1., 0., 1., 1.],\n",
            "        [1., 0., 1., 1.],\n",
            "        [1., 0., 1., 1.]])\n"
          ]
        }
      ]
    },
    {
      "cell_type": "markdown",
      "source": [
        "**张量相乘**"
      ],
      "metadata": {
        "id": "ezLHdcyYPBjt"
      }
    },
    {
      "cell_type": "code",
      "source": [
        "# 这将计算逐元素的乘积\n",
        "print(f\"tensor.mul(tensor) \\n {tensor.mul(tensor)} \\n\")\n",
        "# 另一种语法：\n",
        "print(f\"tensor * tensor \\n {tensor * tensor}\")"
      ],
      "metadata": {
        "colab": {
          "base_uri": "https://localhost:8080/"
        },
        "id": "3M5Ix_dAPE8_",
        "outputId": "10fa43ab-bf9a-457e-b6b3-73b00fcae08d"
      },
      "execution_count": null,
      "outputs": [
        {
          "output_type": "stream",
          "name": "stdout",
          "text": [
            "tensor.mul(tensor) \n",
            " tensor([[1., 0., 1., 1.],\n",
            "        [1., 0., 1., 1.],\n",
            "        [1., 0., 1., 1.],\n",
            "        [1., 0., 1., 1.]]) \n",
            "\n",
            "tensor * tensor \n",
            " tensor([[1., 0., 1., 1.],\n",
            "        [1., 0., 1., 1.],\n",
            "        [1., 0., 1., 1.],\n",
            "        [1., 0., 1., 1.]])\n"
          ]
        }
      ]
    },
    {
      "cell_type": "markdown",
      "source": [
        "**计算两个张量之间的矩阵乘法**"
      ],
      "metadata": {
        "id": "e1UKFzfJPOh2"
      }
    },
    {
      "cell_type": "code",
      "source": [
        "print(f\"tensor.matmul(tensor.T) \\n {tensor.matmul(tensor.T)} \\n\")\n",
        "# 另一种语法：\n",
        "print(f\"tensor @ tensor.T \\n {tensor @ tensor.T}\")"
      ],
      "metadata": {
        "colab": {
          "base_uri": "https://localhost:8080/"
        },
        "id": "mSgcNJuPPVhd",
        "outputId": "b4b510c2-e582-4e14-803f-2b8d2f999ff7"
      },
      "execution_count": null,
      "outputs": [
        {
          "output_type": "stream",
          "name": "stdout",
          "text": [
            "tensor.matmul(tensor.T) \n",
            " tensor([[3., 3., 3., 3.],\n",
            "        [3., 3., 3., 3.],\n",
            "        [3., 3., 3., 3.],\n",
            "        [3., 3., 3., 3.]]) \n",
            "\n",
            "tensor @ tensor.T \n",
            " tensor([[3., 3., 3., 3.],\n",
            "        [3., 3., 3., 3.],\n",
            "        [3., 3., 3., 3.],\n",
            "        [3., 3., 3., 3.]])\n"
          ]
        }
      ]
    },
    {
      "cell_type": "markdown",
      "source": [
        "**原地（In-place）操作**\n",
        "\n",
        "带 _ 后缀的操作是原地操作。例如：x.copy_(y)、x.t_() 会改变 x 的值。"
      ],
      "metadata": {
        "id": "bXP8Hwp4PZX9"
      }
    },
    {
      "cell_type": "code",
      "source": [
        "print(tensor, \"\\n\") # 打印张量\n",
        "tensor.add_(5) # 将张量中的每个元素都加上5\n",
        "print(tensor) # 打印张量"
      ],
      "metadata": {
        "colab": {
          "base_uri": "https://localhost:8080/"
        },
        "id": "K9r81nB8ZMog",
        "outputId": "3be7785d-661b-46b2-8708-8dbb8c6d73fd"
      },
      "execution_count": null,
      "outputs": [
        {
          "output_type": "stream",
          "name": "stdout",
          "text": [
            "tensor([[1., 0., 1., 1.],\n",
            "        [1., 0., 1., 1.],\n",
            "        [1., 0., 1., 1.],\n",
            "        [1., 0., 1., 1.]]) \n",
            "\n",
            "tensor([[6., 5., 6., 6.],\n",
            "        [6., 5., 6., 6.],\n",
            "        [6., 5., 6., 6.],\n",
            "        [6., 5., 6., 6.]])\n"
          ]
        }
      ]
    },
    {
      "cell_type": "markdown",
      "source": [
        ">**注意**\n",
        ">原地操作可以节省一些内存，但在计算导数时可能会因为立即丢失历史记录而产生问题。因此，我们不鼓励使用它们。\n",
        "\n",
        "\n"
      ],
      "metadata": {
        "id": "6SV0jNmGbmQ1"
      }
    },
    {
      "cell_type": "markdown",
      "source": [
        "##与 NumPy 的桥梁\n",
        "CPU 上的张量和 NumPy 数组可以共享其底层的内存地址，改变其中一个，另一个也会随之改变。"
      ],
      "metadata": {
        "id": "j2C_zq9WclaG"
      }
    },
    {
      "cell_type": "code",
      "source": [
        "t = torch.ones(5) # 创建一个5个元素的全1张量\n",
        "print(f\"t: {t}\") # 打印张量\n",
        "n = t.numpy() # 将张量转换为numpy数组\n",
        "print(f\"n: {n}\") # 打印numpy数组"
      ],
      "metadata": {
        "colab": {
          "base_uri": "https://localhost:8080/"
        },
        "id": "bf__V-46bl4e",
        "outputId": "d4ecd1d1-c59a-4567-8a6d-bc429eba0e32"
      },
      "execution_count": null,
      "outputs": [
        {
          "output_type": "stream",
          "name": "stdout",
          "text": [
            "t: tensor([1., 1., 1., 1., 1.])\n",
            "n: [1. 1. 1. 1. 1.]\n"
          ]
        }
      ]
    },
    {
      "cell_type": "markdown",
      "source": [
        "张量的变化会反映在 NumPy 数组中。"
      ],
      "metadata": {
        "id": "u5W7RBB2ck3W"
      }
    },
    {
      "cell_type": "code",
      "source": [
        "t.add_(1)\n",
        "print(f\"t: {t}\")\n",
        "print(f\"n: {n}\")"
      ],
      "metadata": {
        "colab": {
          "base_uri": "https://localhost:8080/"
        },
        "id": "a3mqaFOYdfju",
        "outputId": "93947395-9ab0-4f20-b2df-590d7beb49c1"
      },
      "execution_count": null,
      "outputs": [
        {
          "output_type": "stream",
          "name": "stdout",
          "text": [
            "t: tensor([2., 2., 2., 2., 2.])\n",
            "n: [2. 2. 2. 2. 2.]\n"
          ]
        }
      ]
    },
    {
      "cell_type": "markdown",
      "source": [
        "**NumPy 数组转换为张量**"
      ],
      "metadata": {
        "id": "3mWNHu8KdkAG"
      }
    },
    {
      "cell_type": "code",
      "source": [
        "n = np.ones(5) # 创建一个5个元素的全1numpy数组\n",
        "t = torch.from_numpy(n) # 将numpy数组转换为张量"
      ],
      "metadata": {
        "id": "z4fy6co9d1cm"
      },
      "execution_count": null,
      "outputs": []
    },
    {
      "cell_type": "markdown",
      "source": [
        "NumPy 数组的变化会反映在张量中。"
      ],
      "metadata": {
        "id": "DcJSMmqad8wU"
      }
    },
    {
      "cell_type": "code",
      "source": [
        "np.add(n, 1, out=n) # 将numpy数组中的每个元素都加上1\n",
        "print(f\"t: {t}\") # 打印张量\n",
        "print(f\"n: {n}\") # 打印numpy数组"
      ],
      "metadata": {
        "colab": {
          "base_uri": "https://localhost:8080/"
        },
        "id": "n3cP7da4d9R1",
        "outputId": "335a45c6-3c48-432c-c86e-e4c4bdaa5255"
      },
      "execution_count": null,
      "outputs": [
        {
          "output_type": "stream",
          "name": "stdout",
          "text": [
            "t: tensor([2., 2., 2., 2., 2.], dtype=torch.float64)\n",
            "n: [2. 2. 2. 2. 2.]\n"
          ]
        }
      ]
    }
  ]
}